{
 "cells": [
  {
   "cell_type": "code",
   "execution_count": null,
   "id": "98106fff",
   "metadata": {},
   "outputs": [],
   "source": [
    "from random import shuffle\n",
    "\n",
    "#Return a shuffled list. This function will keep reshuffling when called.\n",
    "\n",
    "def shuffled_list(my_list):\n",
    "    shuffle(my_list)\n",
    "    return my_list\n",
    "\n",
    "#Takes in player guess input.\n",
    "\n",
    "def player_guess():\n",
    "    guess=''\n",
    "    while guess not in ['0','1','2']:\n",
    "        print('Pick one of the following cup locations - 0, 1, or 2')\n",
    "        guess = input(' > Your guess: ')\n",
    "    return int(guess)\n",
    "\n",
    "#Compares player guess against shuffled list.\n",
    "\n",
    "def check_guess(my_list,guess):\n",
    "    if my_list[guess] == '0':\n",
    "        print('\\n  > You picked the correct cup containing the ball!')\n",
    "        print('  > We will now show you what each cup contains!\\n')\n",
    "        print(my_list)\n",
    "    else:\n",
    "        print('\\n  > Wrong guess!')\n",
    "        print('  > We will now show you what each cup contains!\\n')\n",
    "        print(my_list)\n",
    "        \n",
    "\n",
    "\n",
    "print('Welcome to the Three Cup Monte Challenge!')\n",
    "print('Underneath one of these three cups contains a ball.')\n",
    "print('We will now shuffle these cups.')\n",
    "print('\\nShuffling! Shuffling!')\n",
    "print('\\nAll done! Let us see if you can guess which cup has the ball.\\n')\n",
    "\n",
    "my_list=[' ', '0', ' ']\n",
    "current_mixed_list = shuffled_list(my_list)\n",
    "guess = player_guess()\n",
    "check_guess(current_mixed_list,guess)"
   ]
  }
 ],
 "metadata": {
  "kernelspec": {
   "display_name": "Python 3 (ipykernel)",
   "language": "python",
   "name": "python3"
  },
  "language_info": {
   "codemirror_mode": {
    "name": "ipython",
    "version": 3
   },
   "file_extension": ".py",
   "mimetype": "text/x-python",
   "name": "python",
   "nbconvert_exporter": "python",
   "pygments_lexer": "ipython3",
   "version": "3.11.4"
  }
 },
 "nbformat": 4,
 "nbformat_minor": 5
}
